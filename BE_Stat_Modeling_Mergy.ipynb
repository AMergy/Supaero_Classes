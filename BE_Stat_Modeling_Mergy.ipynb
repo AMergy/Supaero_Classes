{
 "cells": [
  {
   "cell_type": "markdown",
   "metadata": {},
   "source": [
    "<div style=\"font-size:22pt; line-height:25pt; font-weight:bold; text-align:center;\">Bureau d'études : Modélisation Statistique</div>"
   ]
  },
  {
   "cell_type": "code",
   "execution_count": 215,
   "metadata": {
    "ExecuteTime": {
     "end_time": "2018-10-14T15:20:57.576157Z",
     "start_time": "2018-10-14T15:20:57.567945Z"
    }
   },
   "outputs": [],
   "source": [
    "import copy\n",
    "import pandas\n",
    "import numpy as np\n",
    "import matplotlib.pyplot as plt\n",
    "import statsmodels.api as sm\n",
    "\n",
    "from math import sqrt\n",
    "from scipy import stats\n",
    "from sklearn import preprocessing\n",
    "from sklearn.linear_model import LinearRegression, Lasso, LogisticRegression\n",
    "from sklearn.metrics import r2_score\n",
    "from sklearn.model_selection import KFold, LeaveOneOut"
   ]
  },
  {
   "cell_type": "markdown",
   "metadata": {},
   "source": [
    "# LECTURE, EXTRACTION ET VISUALISATION DES DONNEES"
   ]
  },
  {
   "cell_type": "code",
   "execution_count": 216,
   "metadata": {
    "ExecuteTime": {
     "end_time": "2018-10-14T15:21:02.846366Z",
     "start_time": "2018-10-14T15:21:02.813069Z"
    }
   },
   "outputs": [
    {
     "data": {
      "text/html": [
       "<div>\n",
       "<style scoped>\n",
       "    .dataframe tbody tr th:only-of-type {\n",
       "        vertical-align: middle;\n",
       "    }\n",
       "\n",
       "    .dataframe tbody tr th {\n",
       "        vertical-align: top;\n",
       "    }\n",
       "\n",
       "    .dataframe thead th {\n",
       "        text-align: right;\n",
       "    }\n",
       "</style>\n",
       "<table border=\"1\" class=\"dataframe\">\n",
       "  <thead>\n",
       "    <tr style=\"text-align: right;\">\n",
       "      <th></th>\n",
       "      <th>Acid 1 density</th>\n",
       "      <th>Acid 2 density</th>\n",
       "      <th>Acid 3 density</th>\n",
       "      <th>Cells 1 density</th>\n",
       "      <th>Cells 2 density</th>\n",
       "      <th>Pressure 1</th>\n",
       "      <th>Pressure 2</th>\n",
       "      <th>Bio-marker 1</th>\n",
       "      <th>Bio-marker 2</th>\n",
       "      <th>Biomarker 3</th>\n",
       "      <th>Biomarker 4</th>\n",
       "      <th>Biomarker 5</th>\n",
       "      <th>Biomarker 6</th>\n",
       "      <th>Biomarker 6.1</th>\n",
       "      <th>Biomarker 7</th>\n",
       "      <th>Biomarker 8</th>\n",
       "      <th>Biomarker 9</th>\n",
       "      <th>Biomarker 10</th>\n",
       "      <th>Disease progression</th>\n",
       "    </tr>\n",
       "  </thead>\n",
       "  <tbody>\n",
       "    <tr>\n",
       "      <th>0</th>\n",
       "      <td>11.6</td>\n",
       "      <td>6.4</td>\n",
       "      <td>4.3</td>\n",
       "      <td>7.2</td>\n",
       "      <td>14.4</td>\n",
       "      <td>19.26</td>\n",
       "      <td>39.32</td>\n",
       "      <td>50.00</td>\n",
       "      <td>13.040000</td>\n",
       "      <td>0.20</td>\n",
       "      <td>0.0440</td>\n",
       "      <td>-1.578984</td>\n",
       "      <td>2.209</td>\n",
       "      <td>9.02</td>\n",
       "      <td>0.26</td>\n",
       "      <td>94.285053</td>\n",
       "      <td>3.56</td>\n",
       "      <td>16.91</td>\n",
       "      <td>6</td>\n",
       "    </tr>\n",
       "    <tr>\n",
       "      <th>1</th>\n",
       "      <td>15.5</td>\n",
       "      <td>10.5</td>\n",
       "      <td>4.9</td>\n",
       "      <td>6.9</td>\n",
       "      <td>13.7</td>\n",
       "      <td>8.57</td>\n",
       "      <td>36.78</td>\n",
       "      <td>22.57</td>\n",
       "      <td>18.713333</td>\n",
       "      <td>0.51</td>\n",
       "      <td>0.8501</td>\n",
       "      <td>-2.497499</td>\n",
       "      <td>0.339</td>\n",
       "      <td>22.43</td>\n",
       "      <td>0.10</td>\n",
       "      <td>86.766527</td>\n",
       "      <td>7.06</td>\n",
       "      <td>-3.47</td>\n",
       "      <td>6</td>\n",
       "    </tr>\n",
       "    <tr>\n",
       "      <th>2</th>\n",
       "      <td>15.3</td>\n",
       "      <td>6.5</td>\n",
       "      <td>4.2</td>\n",
       "      <td>6.4</td>\n",
       "      <td>13.6</td>\n",
       "      <td>13.48</td>\n",
       "      <td>25.90</td>\n",
       "      <td>8.25</td>\n",
       "      <td>8.246667</td>\n",
       "      <td>0.27</td>\n",
       "      <td>0.9629</td>\n",
       "      <td>-3.638758</td>\n",
       "      <td>0.339</td>\n",
       "      <td>17.94</td>\n",
       "      <td>0.13</td>\n",
       "      <td>107.336147</td>\n",
       "      <td>3.20</td>\n",
       "      <td>10.05</td>\n",
       "      <td>10</td>\n",
       "    </tr>\n",
       "    <tr>\n",
       "      <th>3</th>\n",
       "      <td>13.4</td>\n",
       "      <td>7.7</td>\n",
       "      <td>4.1</td>\n",
       "      <td>5.8</td>\n",
       "      <td>14.2</td>\n",
       "      <td>15.23</td>\n",
       "      <td>44.36</td>\n",
       "      <td>11.09</td>\n",
       "      <td>11.093333</td>\n",
       "      <td>0.67</td>\n",
       "      <td>-0.2756</td>\n",
       "      <td>-6.273760</td>\n",
       "      <td>1.611</td>\n",
       "      <td>11.38</td>\n",
       "      <td>0.20</td>\n",
       "      <td>136.516384</td>\n",
       "      <td>4.33</td>\n",
       "      <td>-3.62</td>\n",
       "      <td>18</td>\n",
       "    </tr>\n",
       "    <tr>\n",
       "      <th>4</th>\n",
       "      <td>16.0</td>\n",
       "      <td>5.2</td>\n",
       "      <td>3.2</td>\n",
       "      <td>5.7</td>\n",
       "      <td>12.8</td>\n",
       "      <td>8.37</td>\n",
       "      <td>19.62</td>\n",
       "      <td>7.44</td>\n",
       "      <td>6.386667</td>\n",
       "      <td>0.24</td>\n",
       "      <td>-0.6928</td>\n",
       "      <td>-2.096575</td>\n",
       "      <td>0.659</td>\n",
       "      <td>8.56</td>\n",
       "      <td>0.27</td>\n",
       "      <td>88.774469</td>\n",
       "      <td>4.57</td>\n",
       "      <td>1.56</td>\n",
       "      <td>7</td>\n",
       "    </tr>\n",
       "  </tbody>\n",
       "</table>\n",
       "</div>"
      ],
      "text/plain": [
       "   Acid 1 density  Acid 2 density  Acid 3 density  Cells 1 density  \\\n",
       "0            11.6             6.4             4.3              7.2   \n",
       "1            15.5            10.5             4.9              6.9   \n",
       "2            15.3             6.5             4.2              6.4   \n",
       "3            13.4             7.7             4.1              5.8   \n",
       "4            16.0             5.2             3.2              5.7   \n",
       "\n",
       "   Cells 2 density  Pressure 1  Pressure 2  Bio-marker 1  Bio-marker 2  \\\n",
       "0             14.4       19.26       39.32         50.00     13.040000   \n",
       "1             13.7        8.57       36.78         22.57     18.713333   \n",
       "2             13.6       13.48       25.90          8.25      8.246667   \n",
       "3             14.2       15.23       44.36         11.09     11.093333   \n",
       "4             12.8        8.37       19.62          7.44      6.386667   \n",
       "\n",
       "   Biomarker 3  Biomarker 4  Biomarker 5  Biomarker 6  Biomarker 6.1  \\\n",
       "0         0.20       0.0440    -1.578984        2.209           9.02   \n",
       "1         0.51       0.8501    -2.497499        0.339          22.43   \n",
       "2         0.27       0.9629    -3.638758        0.339          17.94   \n",
       "3         0.67      -0.2756    -6.273760        1.611          11.38   \n",
       "4         0.24      -0.6928    -2.096575        0.659           8.56   \n",
       "\n",
       "   Biomarker 7  Biomarker 8  Biomarker 9  Biomarker 10  Disease progression  \n",
       "0         0.26    94.285053         3.56         16.91                    6  \n",
       "1         0.10    86.766527         7.06         -3.47                    6  \n",
       "2         0.13   107.336147         3.20         10.05                   10  \n",
       "3         0.20   136.516384         4.33         -3.62                   18  \n",
       "4         0.27    88.774469         4.57          1.56                    7  "
      ]
     },
     "execution_count": 216,
     "metadata": {},
     "output_type": "execute_result"
    }
   ],
   "source": [
    "dataframe=pandas.read_csv(\"./MedicalData1.csv\",sep=';',decimal=b',')\n",
    "dataframe.head()"
   ]
  },
  {
   "cell_type": "code",
   "execution_count": 217,
   "metadata": {
    "ExecuteTime": {
     "end_time": "2018-10-14T15:21:04.572586Z",
     "start_time": "2018-10-14T15:21:04.555357Z"
    }
   },
   "outputs": [],
   "source": [
    "listColNames=list(dataframe.columns)\n",
    "\n",
    "XY=dataframe.values\n",
    "ColNb_Y=listColNames.index('Disease progression')\n",
    "\n",
    "#to make it contains the column names of X only\n",
    "listColNames.pop(ColNb_Y)\n",
    "\n",
    "#reshape is to make sure that Y is a column vector\n",
    "Y=XY[:,ColNb_Y].reshape((XY.shape[0],1))   \n",
    "X = np.delete(XY, ColNb_Y, 1)\n",
    "\n",
    "X_scaled = preprocessing.scale(X)"
   ]
  },
  {
   "cell_type": "code",
   "execution_count": 218,
   "metadata": {
    "ExecuteTime": {
     "end_time": "2018-10-14T15:21:06.550642Z",
     "start_time": "2018-10-14T15:21:05.022754Z"
    }
   },
   "outputs": [
    {
     "data": {
      "image/png": "[encoded data removed]",
      "text/plain": [
       "<Figure size 432x288 with 1 Axes>"
      ]
     },
     "metadata": {},
     "output_type": "display_data"
    },
    {
     "data": {
      "image/png": "[encoded data removed]",
      "text/plain": [
       "<Figure size 432x288 with 1 Axes>"
      ]
     },
     "metadata": {},
     "output_type": "display_data"
    },
    {
     "data": {
      "image/png": "[encoded data removed]",
      "text/plain": [
       "<Figure size 432x288 with 1 Axes>"
      ]
     },
     "metadata": {},
     "output_type": "display_data"
    },
    {
     "data": {
      "image/png": "[encoded data removed]",
      "text/plain": [
       "<Figure size 432x288 with 1 Axes>"
      ]
     },
     "metadata": {},
     "output_type": "display_data"
    },
    {
     "data": {
      "image/png": "[encoded data removed]",
      "text/plain": [
       "<Figure size 432x288 with 1 Axes>"
      ]
     },
     "metadata": {},
     "output_type": "display_data"
    },
    {
     "data": {
      "image/png": "[encoded data removed]",
      "text/plain": [
       "<Figure size 432x288 with 1 Axes>"
      ]
     },
     "metadata": {},
     "output_type": "display_data"
    },
    {
     "data": {
      "image/png": "[encoded data removed]",
      "text/plain": [
       "<Figure size 432x288 with 1 Axes>"
      ]
     },
     "metadata": {},
     "output_type": "display_data"
    },
    {
     "data": {
      "image/png": "[encoded data removed]",
      "text/plain": [
       "<Figure size 432x288 with 1 Axes>"
      ]
     },
     "metadata": {},
     "output_type": "display_data"
    },
    {
     "data": {
      "image/png": "[encoded data removed]",
      "text/plain": [
       "<Figure size 432x288 with 1 Axes>"
      ]
     },
     "metadata": {},
     "output_type": "display_data"
    },
    {
     "data": {
      "image/png": "[encoded data removed]",
      "text/plain": [
       "<Figure size 432x288 with 1 Axes>"
      ]
     },
     "metadata": {},
     "output_type": "display_data"
    },
    {
     "data": {
      "image/png": "[encoded data removed]",
      "text/plain": [
       "<Figure size 432x288 with 1 Axes>"
      ]
     },
     "metadata": {},
     "output_type": "display_data"
    },
    {
     "data": {
      "image/png": "[encoded data removed]",
      "text/plain": [
       "<Figure size 432x288 with 1 Axes>"
      ]
     },
     "metadata": {},
     "output_type": "display_data"
    },
    {
     "data": {
      "image/png": "[encoded data removed]",
      "text/plain": [
       "<Figure size 432x288 with 1 Axes>"
      ]
     },
     "metadata": {},
     "output_type": "display_data"
    },
    {
     "data": {
      "image/png": "[encoded data removed]",
      "text/plain": [
       "<Figure size 432x288 with 1 Axes>"
      ]
     },
     "metadata": {},
     "output_type": "display_data"
    },
    {
     "data": {
      "image/png": "[encoded data removed]",
      "text/plain": [
       "<Figure size 432x288 with 1 Axes>"
      ]
     },
     "metadata": {},
     "output_type": "display_data"
    },
    {
     "data": {
      "image/png": "[encoded data removed]",
      "text/plain": [
       "<Figure size 432x288 with 1 Axes>"
      ]
     },
     "metadata": {},
     "output_type": "display_data"
    },
    {
     "data": {
      "image/png": "[encoded data removed]",
      "text/plain": [
       "<Figure size 432x288 with 1 Axes>"
      ]
     },
     "metadata": {},
     "output_type": "display_data"
    },
    {
     "data": {
      "image/png": "[encoded data removed]",
      "text/plain": [
       "<Figure size 432x288 with 1 Axes>"
      ]
     },
     "metadata": {},
     "output_type": "display_data"
    }
   ],
   "source": [
    "for Col in range(len(listColNames)):\n",
    "    plt.plot(X[:,Col],Y[:],'.')\n",
    "    plt.xlabel(listColNames[Col])\n",
    "    plt.ylabel('Disease progression')\n",
    "    plt.show()"
   ]
  },
  {
   "cell_type": "markdown",
   "metadata": {},
   "source": [
    "# QUESTIONS"
   ]
  },
  {
   "cell_type": "markdown",
   "metadata": {},
   "source": [
    "## QUESTION 1 \n",
    "Observez les donnees unes par unes. Est-ce que vous identifiez visuellement des liens entre certaines variables et la variable 'Disease progression'. Si oui, lesquels ?"
   ]
  },
  {
   "cell_type": "markdown",
   "metadata": {},
   "source": [
    "    Visuellement (en observant la dispersion des points), on identifie une corrélation entre 'Disease progression' et :\n",
    "    - Biomarker 8 : la corrélation semble positive\n",
    "    - Acid 1 density : la corrélation qui semble positive est légèrement moins évidente\n",
    "    - Biomarker 5 : elle semble cette fois-ci négative"
   ]
  },
  {
   "cell_type": "code",
   "execution_count": 219,
   "metadata": {
    "ExecuteTime": {
     "end_time": "2018-10-14T15:21:18.096506Z",
     "start_time": "2018-10-14T15:21:17.798704Z"
    }
   },
   "outputs": [
    {
     "data": {
      "text/plain": [
       "Text(0,0.5,'Disease progression')"
      ]
     },
     "execution_count": 219,
     "metadata": {},
     "output_type": "execute_result"
    },
    {
     "data": {
      "image/png": "[encoded data removed]",
      "text/plain": [
       "<Figure size 1080x576 with 3 Axes>"
      ]
     },
     "metadata": {},
     "output_type": "display_data"
    }
   ],
   "source": [
    "f, ax = plt.subplots(nrows=1, ncols=3, sharey=True, figsize=(15,8))\n",
    "f.suptitle(\"Variables visually linked with Disease Progression\")\n",
    "\n",
    "Col0=listColNames.index(\"Acid 1 density\")\n",
    "ax[1].plot(X[:,Col0],Y[:],'.')\n",
    "ax[1].set_xlabel(listColNames[Col0])\n",
    "\n",
    "Col1=listColNames.index(\"Biomarker 5\")\n",
    "ax[2].plot(X[:,Col1],Y[:],'.')\n",
    "ax[2].set_xlabel(listColNames[Col1])\n",
    "\n",
    "Col2=listColNames.index(\"Biomarker 8\")\n",
    "ax[0].plot(X[:,Col2],Y[:],'.')\n",
    "ax[0].set_xlabel(listColNames[Col2])\n",
    "ax[0].set_ylabel('Disease progression')"
   ]
  },
  {
   "cell_type": "markdown",
   "metadata": {},
   "source": [
    "## QUESTION 2 \n",
    "On se demande si il est possible de predire le niveau de 'Disease progression' à partir de                de la variable 'Acid 1 density'. "
   ]
  },
  {
   "cell_type": "markdown",
   "metadata": {},
   "source": [
    "### QUESTION 2.1 \n",
    "Effectuez une regression lineaire simple entre ces deux variables et predisez ensuite les valeurs de 'Disease progression' a l'aide de 'Acid 1 density'. Vous pourrez evaluer la qualité des predictions a l'aide du coefficient de determination R2."
   ]
  },
  {
   "cell_type": "code",
   "execution_count": 220,
   "metadata": {
    "ExecuteTime": {
     "end_time": "2018-10-14T15:21:31.147867Z",
     "start_time": "2018-10-14T15:21:31.145343Z"
    }
   },
   "outputs": [],
   "source": [
    "ColNb_X1 = listColNames.index('Acid 1 density')\n",
    "\n",
    "X1 = XY[:,ColNb_X1]"
   ]
  },
  {
   "cell_type": "code",
   "execution_count": 221,
   "metadata": {
    "ExecuteTime": {
     "end_time": "2018-10-14T15:21:39.227700Z",
     "start_time": "2018-10-14T15:21:39.132274Z"
    }
   },
   "outputs": [
    {
     "data": {
      "image/png": "[encoded data removed]",
      "text/plain": [
       "<Figure size 432x288 with 1 Axes>"
      ]
     },
     "metadata": {},
     "output_type": "display_data"
    }
   ],
   "source": [
    "# instanciation de sklearn.linear_model.LinearRegression\n",
    "lr = LinearRegression()\n",
    "lr.fit(X1[:, np.newaxis], Y)  # np.newaxis est utilise car x doit etre une matrice 2d avec 'LinearRegression'\n",
    "\n",
    "# Y prédit avec la régression linéaire simple\n",
    "Y_pred = lr.predict(X1[:, np.newaxis]) \n",
    "\n",
    "# representation du resultat\n",
    "fig = plt.figure()\n",
    "plt.plot(X1, Y, 'r.')\n",
    "plt.plot(X1, Y_pred, 'b-')\n",
    "plt.legend(('Data', 'Linear Fit'), loc='lower right')\n",
    "plt.title('Linear regression with Acid 1 density')\n",
    "plt.show()"
   ]
  },
  {
   "cell_type": "code",
   "execution_count": 222,
   "metadata": {
    "ExecuteTime": {
     "end_time": "2018-10-14T15:22:49.371942Z",
     "start_time": "2018-10-14T15:22:49.366724Z"
    },
    "scrolled": true
   },
   "outputs": [
    {
     "name": "stdout",
     "output_type": "stream",
     "text": [
      "Y = 3.7186254486308306 + 0.42034504018567687*X\n",
      "R² =  0.2275627359715969\n",
      "R² =  0.22756273597159693\n"
     ]
    }
   ],
   "source": [
    "print(\"Y = \" + str(lr.intercept_[0]) + ' + ' + str(lr.coef_[0,0]) + '*X')\n",
    "\n",
    "print(\"R² = \", lr.score(X1[:, np.newaxis], Y))\n",
    "print(\"R² = \", r2_score(Y, Y_pred))"
   ]
  },
  {
   "cell_type": "markdown",
   "metadata": {},
   "source": [
    "    R² n'est pas proche de 0 : la prédiction semble corrélée avec la réalité, mais la qualité pourrait être meilleure. "
   ]
  },
  {
   "cell_type": "markdown",
   "metadata": {},
   "source": [
    "### QUESTION 2.2 \n",
    "Evaluez la stabilite des predictions a l'aide d'une methode de validation croisee de type 4-folds."
   ]
  },
  {
   "cell_type": "code",
   "execution_count": 223,
   "metadata": {
    "ExecuteTime": {
     "end_time": "2018-10-14T15:23:10.910109Z",
     "start_time": "2018-10-14T15:23:10.894874Z"
    }
   },
   "outputs": [
    {
     "name": "stdout",
     "output_type": "stream",
     "text": [
      "A l'aide d'une méthode de validation croisée, on a : R² =  0.18260081612748863\n"
     ]
    }
   ],
   "source": [
    "n_splits = 4\n",
    "kf = KFold(n_splits=n_splits)\n",
    "\n",
    "r2_score_mean1 = 0\n",
    "coef_a = 0\n",
    "coef_b = 0\n",
    "    \n",
    "for train, test in kf.split(X1):\n",
    "    X_train = X1[train].reshape(-1, 1)\n",
    "    X_test = X1[test].reshape(-1, 1)\n",
    "            \n",
    "    y_train = Y[train]\n",
    "    y_test = Y[test]\n",
    "        \n",
    "    lr = LinearRegression()\n",
    "    lr.fit(X_train, y_train)\n",
    "    \n",
    "    y_pred = lr.predict(X_test)\n",
    "    r2_score_mean1 += r2_score(y_test, y_pred) \n",
    "    coef_a += lr.coef_[0,0]\n",
    "    coef_b += lr.intercept_[0]\n",
    "        \n",
    "r2_score_fin1 = r2_score_mean1 / n_splits\n",
    "a_X1 = coef_a / n_splits\n",
    "b_X1 = coef_b / n_splits\n",
    "    \n",
    "print(\"A l'aide d'une méthode de validation croisée, on a : R² = \", \n",
    "      r2_score_fin1)"
   ]
  },
  {
   "cell_type": "markdown",
   "metadata": {
    "ExecuteTime": {
     "end_time": "2018-10-03T12:51:06.100294Z",
     "start_time": "2018-10-03T12:51:06.084922Z"
    }
   },
   "source": [
    "    R² est inférieur à celui obtenu précédemment ; la corrélation est légèrement moins importante lorsque l'on teste la régression avec un jeu de données différent du jeu de données d'apprentissage (il y a moins de \"fitting\")."
   ]
  },
  {
   "cell_type": "markdown",
   "metadata": {},
   "source": [
    "### QUESTION 2.3\n",
    "Auriez-vous eu de meilleurs resultats en predisant 'Disease progression' a l'aide de la variable 'Biomarker 8' ou 'Pressure 1'?"
   ]
  },
  {
   "cell_type": "code",
   "execution_count": 224,
   "metadata": {
    "ExecuteTime": {
     "end_time": "2018-10-14T15:23:23.581637Z",
     "start_time": "2018-10-14T15:23:23.328678Z"
    }
   },
   "outputs": [
    {
     "data": {
      "text/plain": [
       "Text(0.5,0,'Pressure 1')"
      ]
     },
     "execution_count": 224,
     "metadata": {},
     "output_type": "execute_result"
    },
    {
     "data": {
      "image/png": "[encoded data removed]",
      "text/plain": [
       "<Figure size 1080x576 with 3 Axes>"
      ]
     },
     "metadata": {},
     "output_type": "display_data"
    }
   ],
   "source": [
    "f, ax = plt.subplots(nrows=1, ncols=3, sharey=True, figsize=(15,8))\n",
    "\n",
    "Col0=listColNames.index(\"Acid 1 density\")\n",
    "ax[0].plot(X[:,Col0],Y[:],'.')\n",
    "ax[0].set_xlabel(listColNames[Col0])\n",
    "ax[0].set_ylabel('Disease progression')\n",
    "\n",
    "Col2=listColNames.index(\"Biomarker 8\")\n",
    "ax[2].plot(X[:,Col2],Y[:],'.')\n",
    "ax[2].set_xlabel(listColNames[Col2])\n",
    "\n",
    "Col1=listColNames.index(\"Pressure 1\")\n",
    "ax[1].plot(X[:,Col1],Y[:],'.')\n",
    "ax[1].set_xlabel(listColNames[Col1])"
   ]
  },
  {
   "cell_type": "markdown",
   "metadata": {},
   "source": [
    "Sur la représentation de Disease Progression en fonction de biomarker 8, on observe que les points s'agencent plus finement autour d'une droite => la prédiction et la réalité auraient surement été plus corrélées lors d'une prédiction.\n",
    "\n",
    "Ça n'aurait pas été le cas en prédisant Disease Progression à l'aide de la variable Pressure 1 : Les points forment un nuage sur le graphe => les variables ne semblent pas être corrélées. "
   ]
  },
  {
   "cell_type": "code",
   "execution_count": 225,
   "metadata": {
    "ExecuteTime": {
     "end_time": "2018-10-14T15:24:10.543752Z",
     "start_time": "2018-10-14T15:24:10.541394Z"
    }
   },
   "outputs": [],
   "source": [
    "ColNb_X_P1 = listColNames.index('Pressure 1')\n",
    "\n",
    "X_P1 = XY[:,ColNb_X_P1]"
   ]
  },
  {
   "cell_type": "code",
   "execution_count": 227,
   "metadata": {
    "ExecuteTime": {
     "end_time": "2018-10-14T15:24:34.857954Z",
     "start_time": "2018-10-14T15:24:34.835374Z"
    }
   },
   "outputs": [
    {
     "name": "stdout",
     "output_type": "stream",
     "text": [
      "A l'aide d'une méthode de validation croisée, on a : R² =  -0.083\n"
     ]
    }
   ],
   "source": [
    "n_splits = 4\n",
    "kf = KFold(n_splits=n_splits)\n",
    "\n",
    "r2_score_mean1 = 0\n",
    "coef_a = 0\n",
    "coef_b = 0\n",
    "    \n",
    "for train, test in kf.split(X_P1):\n",
    "    X_train = X_P1[train].reshape(-1, 1)\n",
    "    X_test = X_P1[test].reshape(-1, 1)\n",
    "            \n",
    "    y_train = Y[train]\n",
    "    y_test = Y[test]\n",
    "        \n",
    "    lr = LinearRegression()\n",
    "    lr.fit(X_train, y_train)\n",
    "    \n",
    "    y_pred = lr.predict(X_test)\n",
    "    r2_score_mean1 += r2_score(y_test, y_pred) \n",
    "    coef_a += lr.coef_[0,0]\n",
    "    coef_b += lr.intercept_[0]\n",
    "        \n",
    "r2_score_fin1 = r2_score_mean1 / n_splits\n",
    "a_X_P1 = coef_a / n_splits\n",
    "b_X_P1 = coef_b / n_splits\n",
    "    \n",
    "print(\"A l'aide d'une méthode de validation croisée, on a : R² = \", \n",
    "      np.round(r2_score_fin1,3))"
   ]
  },
  {
   "cell_type": "code",
   "execution_count": 228,
   "metadata": {
    "ExecuteTime": {
     "end_time": "2018-10-14T15:24:39.549332Z",
     "start_time": "2018-10-14T15:24:39.546808Z"
    }
   },
   "outputs": [],
   "source": [
    "ColNb_X8 = listColNames.index('Biomarker 8')\n",
    "\n",
    "X8 = XY[:,ColNb_X8]"
   ]
  },
  {
   "cell_type": "code",
   "execution_count": 230,
   "metadata": {
    "ExecuteTime": {
     "end_time": "2018-10-14T15:24:47.740109Z",
     "start_time": "2018-10-14T15:24:47.729933Z"
    }
   },
   "outputs": [
    {
     "name": "stdout",
     "output_type": "stream",
     "text": [
      "A l'aide d'une méthode de validation croisée, on a : R² =  0.68\n"
     ]
    }
   ],
   "source": [
    "n_splits = 4\n",
    "kf = KFold(n_splits=n_splits)\n",
    "\n",
    "r2_score_mean1 = 0\n",
    "coef_a = 0\n",
    "coef_b = 0\n",
    "    \n",
    "for train, test in kf.split(X8):\n",
    "    X_train = X8[train].reshape(-1, 1)\n",
    "    X_test = X8[test].reshape(-1, 1)\n",
    "            \n",
    "    y_train = Y[train]\n",
    "    y_test = Y[test]\n",
    "        \n",
    "    lr = LinearRegression()\n",
    "    lr.fit(X_train, y_train)\n",
    "    \n",
    "    y_pred = lr.predict(X_test)\n",
    "    r2_score_mean1 += r2_score(y_test, y_pred) \n",
    "    coef_a += lr.coef_[0,0]\n",
    "    coef_b += lr.intercept_[0]\n",
    "        \n",
    "r2_score_fin1 = r2_score_mean1 / n_splits\n",
    "a_X8 = coef_a / n_splits\n",
    "b_X8 = coef_b / n_splits\n",
    "    \n",
    "print(\"A l'aide d'une méthode de validation croisée, on a : R² = \", \n",
    "      np.round(r2_score_fin1,3))"
   ]
  },
  {
   "cell_type": "markdown",
   "metadata": {},
   "source": [
    "    Conclusion : On obtient en effet un coefficient de corrélation plus proche de 1 pour Biomarker 8, et un coefficient, négatif comme le suggère l'allure du nuage de points sur la représentation graphique, plus proche de 0 pour Pressure 1."
   ]
  },
  {
   "cell_type": "markdown",
   "metadata": {},
   "source": [
    "### QUESTION 2.4 \n",
    "Peut-on enfin dire si on observe une relation significative entre 'Disease progression' et (independament) 'Acid 1 density' ou 'Biomarker 8' ou 'Pressure 1'. On peut le valider en testant si les coefficients des pentes obtenues entre 'Disease progression' et chacune de ses trois variables par regression lineaire simples sont significativement differentes de 0."
   ]
  },
  {
   "cell_type": "code",
   "execution_count": 15,
   "metadata": {
    "ExecuteTime": {
     "end_time": "2018-10-14T12:22:53.446479Z",
     "start_time": "2018-10-14T12:22:52.565038Z"
    }
   },
   "outputs": [
    {
     "data": {
      "text/plain": [
       "Text(0.5,0,'Biomarker 8')"
      ]
     },
     "execution_count": 15,
     "metadata": {},
     "output_type": "execute_result"
    },
    {
     "data": {
      "image/png": "[encoded data removed]",
      "text/plain": [
       "<Figure size 1080x576 with 3 Axes>"
      ]
     },
     "metadata": {},
     "output_type": "display_data"
    }
   ],
   "source": [
    "f, ax = plt.subplots(1, 3, sharey=True, figsize=(15,8))\n",
    "f.suptitle(\"Linear Regressions\")\n",
    "\n",
    "ax[0].plot(X1, Y, 'r.')\n",
    "ax[0].plot(X1, a_X1 * X1 + b_X1, 'b-')\n",
    "ax[0].legend(('Data', 'Linear Fit'), loc='lower right')\n",
    "ax[0].set_xlabel('Acid 1 Density')\n",
    "ax[0].set_ylabel('Disease Progression')\n",
    "\n",
    "ax[1].plot(X_P1, Y, 'r.')\n",
    "ax[1].plot(X_P1, a_X_P1 * X_P1 + b_X_P1, 'b-')\n",
    "ax[1].legend(('Data', 'Linear Fit'), loc='lower right')\n",
    "ax[1].set_xlabel('Pressure 1')\n",
    "\n",
    "ax[2].plot(X8, Y, 'r.')\n",
    "ax[2].plot(X8, a_X8 * X8 + b_X8, 'b-')\n",
    "ax[2].legend(('Data', 'Linear Fit'), loc='lower right')\n",
    "ax[2].set_xlabel('Biomarker 8')"
   ]
  },
  {
   "cell_type": "code",
   "execution_count": 16,
   "metadata": {
    "ExecuteTime": {
     "end_time": "2018-10-14T12:22:53.516961Z",
     "start_time": "2018-10-14T12:22:53.506806Z"
    },
    "scrolled": true
   },
   "outputs": [
    {
     "name": "stdout",
     "output_type": "stream",
     "text": [
      "Acid 1 density : Y =  3.63  +  0.43 *X\n",
      "Pressure 1 : Y =  11.49  +  -0.2 *X\n",
      "Biomarker 8 : Y =  2.64  +  0.07 *X\n"
     ]
    }
   ],
   "source": [
    "print(\"Acid 1 density : Y = \", round(b_X1,2), ' + ', round(a_X1,2), '*X')\n",
    "print(\"Pressure 1 : Y = \", round(b_X_P1,2), ' + ', round(a_X_P1,2), '*X')\n",
    "print(\"Biomarker 8 : Y = \", round(b_X8,2), ' + ', round(a_X8,2), '*X')"
   ]
  },
  {
   "cell_type": "markdown",
   "metadata": {},
   "source": [
    "    On peut exprimer la prédiction comme suit : Ŷ = b0 + b1 . x\n",
    "\n",
    "    Si b1 est significativement différent de 0, on peut considérer qu'il existe une relation de dépendance entre les xi et les Yi."
   ]
  },
  {
   "cell_type": "code",
   "execution_count": 232,
   "metadata": {
    "ExecuteTime": {
     "end_time": "2018-10-14T15:25:57.740219Z",
     "start_time": "2018-10-14T15:25:57.724040Z"
    }
   },
   "outputs": [
    {
     "name": "stdout",
     "output_type": "stream",
     "text": [
      "                            OLS Regression Results                            \n",
      "==============================================================================\n",
      "Dep. Variable:                      y   R-squared:                       0.228\n",
      "Model:                            OLS   Adj. R-squared:                  0.215\n",
      "Method:                 Least Squares   F-statistic:                     18.85\n",
      "Date:                Sun, 14 Oct 2018   Prob (F-statistic):           5.13e-05\n",
      "Time:                        17:25:57   Log-Likelihood:                -171.19\n",
      "No. Observations:                  66   AIC:                             346.4\n",
      "Df Residuals:                      64   BIC:                             350.7\n",
      "Df Model:                           1                                         \n",
      "Covariance Type:            nonrobust                                         \n",
      "==============================================================================\n",
      "                 coef    std err          t      P>|t|      [0.025      0.975]\n",
      "------------------------------------------------------------------------------\n",
      "const          3.7186      1.345      2.765      0.007       1.032       6.405\n",
      "x1             0.4203      0.097      4.342      0.000       0.227       0.614\n",
      "==============================================================================\n",
      "Omnibus:                        5.160   Durbin-Watson:                   2.443\n",
      "Prob(Omnibus):                  0.076   Jarque-Bera (JB):                4.805\n",
      "Skew:                           0.661   Prob(JB):                       0.0905\n",
      "Kurtosis:                       3.020   Cond. No.                         46.4\n",
      "==============================================================================\n",
      "\n",
      "Warnings:\n",
      "[1] Standard Errors assume that the covariance matrix of the errors is correctly specified.\n",
      "\n",
      "P value :  5e-05\n"
     ]
    }
   ],
   "source": [
    "X2 = sm.add_constant(X1)\n",
    "est = sm.OLS(Y, X2)\n",
    "est2 = est.fit()\n",
    "print(est2.summary())\n",
    "print(\"\\nP value : \", np.round(est2.f_pvalue,5))"
   ]
  },
  {
   "cell_type": "code",
   "execution_count": 233,
   "metadata": {
    "ExecuteTime": {
     "end_time": "2018-10-14T15:26:14.661694Z",
     "start_time": "2018-10-14T15:26:14.639085Z"
    }
   },
   "outputs": [
    {
     "name": "stdout",
     "output_type": "stream",
     "text": [
      "                            OLS Regression Results                            \n",
      "==============================================================================\n",
      "Dep. Variable:                      y   R-squared:                       0.030\n",
      "Model:                            OLS   Adj. R-squared:                  0.015\n",
      "Method:                 Least Squares   F-statistic:                     2.010\n",
      "Date:                Sun, 14 Oct 2018   Prob (F-statistic):              0.161\n",
      "Time:                        17:26:14   Log-Likelihood:                -178.69\n",
      "No. Observations:                  66   AIC:                             361.4\n",
      "Df Residuals:                      64   BIC:                             365.8\n",
      "Df Model:                           1                                         \n",
      "Covariance Type:            nonrobust                                         \n",
      "==============================================================================\n",
      "                 coef    std err          t      P>|t|      [0.025      0.975]\n",
      "------------------------------------------------------------------------------\n",
      "const         11.3158      1.500      7.541      0.000       8.318      14.313\n",
      "x1            -0.1856      0.131     -1.418      0.161      -0.447       0.076\n",
      "==============================================================================\n",
      "Omnibus:                        4.716   Durbin-Watson:                   2.187\n",
      "Prob(Omnibus):                  0.095   Jarque-Bera (JB):                4.211\n",
      "Skew:                           0.617   Prob(JB):                        0.122\n",
      "Kurtosis:                       3.095   Cond. No.                         38.2\n",
      "==============================================================================\n",
      "\n",
      "Warnings:\n",
      "[1] Standard Errors assume that the covariance matrix of the errors is correctly specified.\n",
      "\n",
      "P value :  0.16111\n"
     ]
    }
   ],
   "source": [
    "X2 = sm.add_constant(X_P1)\n",
    "est = sm.OLS(Y, X2)\n",
    "est2 = est.fit()\n",
    "print(est2.summary())\n",
    "print(\"\\nP value : \", np.round(est2.f_pvalue,5))"
   ]
  },
  {
   "cell_type": "code",
   "execution_count": 234,
   "metadata": {
    "ExecuteTime": {
     "end_time": "2018-10-14T15:26:21.744175Z",
     "start_time": "2018-10-14T15:26:21.721298Z"
    },
    "scrolled": false
   },
   "outputs": [
    {
     "name": "stdout",
     "output_type": "stream",
     "text": [
      "                            OLS Regression Results                            \n",
      "==============================================================================\n",
      "Dep. Variable:                      y   R-squared:                       0.717\n",
      "Model:                            OLS   Adj. R-squared:                  0.713\n",
      "Method:                 Least Squares   F-statistic:                     162.5\n",
      "Date:                Sun, 14 Oct 2018   Prob (F-statistic):           3.16e-19\n",
      "Time:                        17:26:21   Log-Likelihood:                -137.99\n",
      "No. Observations:                  66   AIC:                             280.0\n",
      "Df Residuals:                      64   BIC:                             284.4\n",
      "Df Model:                           1                                         \n",
      "Covariance Type:            nonrobust                                         \n",
      "==============================================================================\n",
      "                 coef    std err          t      P>|t|      [0.025      0.975]\n",
      "------------------------------------------------------------------------------\n",
      "const          2.6513      0.575      4.609      0.000       1.502       3.800\n",
      "x1             0.0709      0.006     12.749      0.000       0.060       0.082\n",
      "==============================================================================\n",
      "Omnibus:                        1.774   Durbin-Watson:                   2.093\n",
      "Prob(Omnibus):                  0.412   Jarque-Bera (JB):                1.627\n",
      "Skew:                           0.377   Prob(JB):                        0.443\n",
      "Kurtosis:                       2.843   Cond. No.                         243.\n",
      "==============================================================================\n",
      "\n",
      "Warnings:\n",
      "[1] Standard Errors assume that the covariance matrix of the errors is correctly specified.\n",
      "\n",
      "P value :  0.0\n"
     ]
    }
   ],
   "source": [
    "X2 = sm.add_constant(X8)\n",
    "est = sm.OLS(Y, X2)\n",
    "est2 = est.fit()\n",
    "print(est2.summary())\n",
    "print(\"\\nP value : \", np.round(est2.f_pvalue,5))"
   ]
  },
  {
   "cell_type": "markdown",
   "metadata": {},
   "source": [
    "    Pour Acid 1 density et Biomarker 8, on observe que p value < alpha (car il est inférieur à 0.0005 - affiché à 0.000 dans les tableaux de résultats ci-dessus, avec les arrondis). On peut donc rejeter l'hypothèse que b1 est égal à 0, et donc affirmer que ces deux variables sont corrélées avec Disease Progression. \n",
    "    \n",
    "    Or, on ne peut rejeter cette hypothèse pour Pressure 1 (p value = 0.161 > alpha) ; on ne peut rejeter l'hypothèse que les variables ne sont pas corrélées. "
   ]
  },
  {
   "cell_type": "markdown",
   "metadata": {},
   "source": [
    "## QUESTION 3\n",
    "On s'interesse maintenant au lien entre la variable 'Disease progression' et 'Biomarker 5'. On peut remarquer que ces donnees contiennent deux valeurs aberrantes."
   ]
  },
  {
   "cell_type": "markdown",
   "metadata": {},
   "source": [
    "### Question 3.1\n",
    "Quelles sont les valeurs aberrantes et quel va etre leur impact lors de l'estimation d'une relation lineaire entre ces deux variables ?"
   ]
  },
  {
   "cell_type": "code",
   "execution_count": 235,
   "metadata": {
    "ExecuteTime": {
     "end_time": "2018-10-14T15:27:34.174143Z",
     "start_time": "2018-10-14T15:27:34.088265Z"
    }
   },
   "outputs": [
    {
     "data": {
      "image/png": "[encoded data removed]",
      "text/plain": [
       "<Figure size 432x288 with 1 Axes>"
      ]
     },
     "metadata": {},
     "output_type": "display_data"
    }
   ],
   "source": [
    "B_5 = listColNames.index('Biomarker 5')\n",
    "\n",
    "X_5 = XY[:,B_5]\n",
    "\n",
    "plt.plot(X[:,B_5],Y[:],'.')\n",
    "plt.xlabel('Biomarker 5')\n",
    "plt.ylabel('Disease progression')\n",
    "plt.show()"
   ]
  },
  {
   "cell_type": "markdown",
   "metadata": {},
   "source": [
    "    On observe un nuage de point qui semble dispersé linéairement, ce qui laisse penser que Disease progression est peut-être corrélé avec Biomarker 5. Deux points, proches de l'origine, en sont éloignées et apparaissent donc comme des valeurs aberrantes. On risque d'avoir une moins bonne corrélation entre les variables si on les garde, que si on les retire du jeu de données."
   ]
  },
  {
   "cell_type": "markdown",
   "metadata": {},
   "source": [
    "### QUESTION 3.2 : \n",
    "Definissez une procedure de detection automatique de ces variables basee sur la distance de Cook."
   ]
  },
  {
   "cell_type": "code",
   "execution_count": 236,
   "metadata": {
    "ExecuteTime": {
     "end_time": "2018-10-14T15:27:41.067497Z",
     "start_time": "2018-10-14T15:27:41.020474Z"
    }
   },
   "outputs": [],
   "source": [
    "n = len(X_5)\n",
    "cook_dist = []\n",
    "\n",
    "lr.fit(X_5[:, np.newaxis], Y)  \n",
    "s2 = np.sum((Y - lr.predict(X_5[:, np.newaxis])) * (Y - lr.predict(X_5[:, np.newaxis]))) / (n - 2)\n",
    "\n",
    "for i in range(n):\n",
    "    x_del_i = np.delete(X_5, i)\n",
    "    y_del_i = np.delete(Y, i) \n",
    "\n",
    "    lr.fit(x_del_i[:, np.newaxis], y_del_i)\n",
    "    sum_squared_error = np.sum((Y - lr.predict(X_5[:, np.newaxis])) * (Y - lr.predict(X_5[:, np.newaxis])))\n",
    "\n",
    "    cook_dist.append(sum_squared_error / (2. * s2))"
   ]
  },
  {
   "cell_type": "code",
   "execution_count": 237,
   "metadata": {
    "ExecuteTime": {
     "end_time": "2018-10-14T15:27:41.585769Z",
     "start_time": "2018-10-14T15:27:41.469260Z"
    }
   },
   "outputs": [
    {
     "data": {
      "image/png": "[encoded data removed]",
      "text/plain": [
       "<Figure size 432x288 with 1 Axes>"
      ]
     },
     "metadata": {},
     "output_type": "display_data"
    }
   ],
   "source": [
    "plt.plot(cook_dist, '.')\n",
    "plt.title(\"Distances de Cook pour Biomarker 5\")\n",
    "plt.xlabel(\"Indice de la variable de Biomarker 5 supprimée\")\n",
    "plt.ylabel(\"Distance\")\n",
    "plt.show()"
   ]
  },
  {
   "cell_type": "markdown",
   "metadata": {},
   "source": [
    "    Les deux points qui se détachent de la ligne sont les valeurs aberrantes dont on parlait précédemment. On peut les détecter automatiquement en vérifiant si elles appartiennent à un certain intervalle, avec un seuil de détection égal à la moyenne plus ou moins deux fois l'écart-type. "
   ]
  },
  {
   "cell_type": "code",
   "execution_count": 238,
   "metadata": {
    "ExecuteTime": {
     "end_time": "2018-10-14T15:27:45.653330Z",
     "start_time": "2018-10-14T15:27:45.646841Z"
    }
   },
   "outputs": [
    {
     "name": "stdout",
     "output_type": "stream",
     "text": [
      "Point aberrant détecté en (X,Y) = (-10.8,6.0)\n",
      "Point aberrant détecté en (X,Y) = (-9.2,4.0)\n"
     ]
    }
   ],
   "source": [
    "# On calcule la moyenne et les écarts types des distances de Cook précédemment \n",
    "# calculés\n",
    "\n",
    "c_mean = np.mean(cook_dist)\n",
    "c_std = np.std(cook_dist)\n",
    "\n",
    "detection = c_mean + 2 * c_std\n",
    "\n",
    "for i, x in enumerate(cook_dist):\n",
    "    if (x - detection) > 0:\n",
    "        print(\"Point aberrant détecté en (X,Y) = (\" + str(np.round(X_5[i],1)) + \\\n",
    "              \",\" + str(np.round(Y[i][0],1)) + \")\")"
   ]
  },
  {
   "cell_type": "markdown",
   "metadata": {},
   "source": [
    "### QUESTION 3.3 : \n",
    "Pourriez vous plus simplement détecter ces observations aberrantes à l'aide des résidus ? \n",
    "Si oui, décrivez comment, sans nécessairement coder la solution."
   ]
  },
  {
   "cell_type": "markdown",
   "metadata": {},
   "source": [
    "    Les observations aberrantes sont celles ayant les résidus les plus importants ; on va utiliser le même raisonnement que précédemment pour les détecter, avec un seuil de détection égal à la moyenne plus ou moins deux fois l'écart-type. "
   ]
  },
  {
   "cell_type": "code",
   "execution_count": 239,
   "metadata": {
    "ExecuteTime": {
     "end_time": "2018-10-14T15:28:17.815070Z",
     "start_time": "2018-10-14T15:28:17.692217Z"
    }
   },
   "outputs": [
    {
     "data": {
      "image/png": "[encoded data removed]",
      "text/plain": [
       "<Figure size 432x288 with 1 Axes>"
      ]
     },
     "metadata": {},
     "output_type": "display_data"
    }
   ],
   "source": [
    "lr = LinearRegression()\n",
    "lr.fit(X_5[:, np.newaxis], Y) \n",
    "\n",
    "residus = abs((Y - lr.predict(X_5[:, np.newaxis]))[:,0])\n",
    "\n",
    "plt.plot(residus)\n",
    "plt.show()"
   ]
  },
  {
   "cell_type": "code",
   "execution_count": 240,
   "metadata": {
    "ExecuteTime": {
     "end_time": "2018-10-14T15:28:18.151131Z",
     "start_time": "2018-10-14T15:28:18.134148Z"
    }
   },
   "outputs": [
    {
     "name": "stdout",
     "output_type": "stream",
     "text": [
      "Point aberrant détecté en (X,Y) = (-10.8,6.0)\n",
      "Point aberrant détecté en (X,Y) = (-9.2,4.0)\n"
     ]
    }
   ],
   "source": [
    "c_mean = np.mean(residus)\n",
    "c_std = np.std(residus)\n",
    "\n",
    "detection = c_mean + 2 * c_std\n",
    "\n",
    "for i, x in enumerate(residus):\n",
    "    if (x - detection) > 0:\n",
    "        print(\"Point aberrant détecté en (X,Y) = (\" + str(np.round(X_5[i],1)) + \\\n",
    "              \",\" + str(np.round(Y[i][0],1)) + \")\")"
   ]
  },
  {
   "cell_type": "markdown",
   "metadata": {},
   "source": [
    "### QUESTION 3.4 : \n",
    "Comment traiteriez-vous les donnees aberrantes dans le contexte de la regression lineaire entre 'Disease progression' et 'Biomarker 5' pour estimer un lien pertinent entre ces deux variables"
   ]
  },
  {
   "cell_type": "markdown",
   "metadata": {},
   "source": [
    "    Afin d'établir une régression linéaire \"fiable\" entre 'Disease progression' et 'Biomarker 5', je supprimerais les données aberrantes du jeu de données d'entrainement / d'apprentissage ; cela permet d'améliorer les coefficient de corrélation, et ça aura pour effet d'améliorer la prédiction pour des nouvelles valeurs de 'Biomarker 5'."
   ]
  },
  {
   "cell_type": "code",
   "execution_count": 241,
   "metadata": {
    "ExecuteTime": {
     "end_time": "2018-10-14T15:30:17.380355Z",
     "start_time": "2018-10-14T15:30:17.372203Z"
    }
   },
   "outputs": [],
   "source": [
    "new_X5 = copy.deepcopy(X_5)\n",
    "new_X = copy.deepcopy(X)\n",
    "new_Y = copy.deepcopy(Y)\n",
    "\n",
    "# compte le décalage engendré par la suppression d'une variable dans \n",
    "# new_X, new_X5 et de new_Y par rapport aux vecteurs initiaux\n",
    "j = 0\n",
    "\n",
    "for i, x in enumerate(residus):\n",
    "    if (x - detection) > 0:\n",
    "        del_X = np.zeros((new_X.shape[0] - 1, new_X.shape[1]))\n",
    "        \n",
    "        for Col in range(len(listColNames)):\n",
    "            del_X[:,Col] = np.delete(new_X[:,Col], i - j)\n",
    "        \n",
    "        new_X = del_X\n",
    "        \n",
    "        del_X5 = np.delete(new_X5, i - j)\n",
    "        new_X5 = del_X5\n",
    "        \n",
    "        del_y = np.delete(new_Y, i - j)\n",
    "        new_Y = del_y\n",
    "        \n",
    "        j += 1"
   ]
  },
  {
   "cell_type": "code",
   "execution_count": 242,
   "metadata": {
    "ExecuteTime": {
     "end_time": "2018-10-14T15:30:19.740086Z",
     "start_time": "2018-10-14T15:30:19.621860Z"
    }
   },
   "outputs": [
    {
     "data": {
      "image/png": "[encoded data removed]",
      "text/plain": [
       "<Figure size 432x288 with 1 Axes>"
      ]
     },
     "metadata": {},
     "output_type": "display_data"
    }
   ],
   "source": [
    "plt.plot(new_X5, new_Y[:],'x', label=\"Sans valeurs aberrantes\")\n",
    "plt.plot(X_5, Y[:],'.', label=\"Jeu de données initial\")\n",
    "\n",
    "plt.xlabel('Biomarker 5')\n",
    "plt.ylabel('Disease progression')\n",
    "plt.legend(loc=2)\n",
    "plt.show()"
   ]
  },
  {
   "cell_type": "markdown",
   "metadata": {},
   "source": [
    "## QUESTION 4 :\n",
    "Une fois les observations aberrantes de 'Biomarker 5' traitees, on souhaite sélectionner les variables de 'X' qui permettent de prédire au mieux 'Disease progression' a l'aide de la regression multiple regularisee.\n",
    "### QUESTION 4.1 :\n",
    "Expliquez pourquoi vous effecturez cette procedure sur 'X_scaled' plutot que 'X' ?\n",
    "\n"
   ]
  },
  {
   "cell_type": "markdown",
   "metadata": {},
   "source": [
    "    Si on utilise un jeu de données qui n'est pas homogène, on va laisser influer la variance de certaines variables dans le résultat en leur donnant plus d'importance. "
   ]
  },
  {
   "cell_type": "code",
   "execution_count": 244,
   "metadata": {
    "ExecuteTime": {
     "end_time": "2018-10-14T15:31:55.623620Z",
     "start_time": "2018-10-14T15:31:55.614005Z"
    }
   },
   "outputs": [],
   "source": [
    "X_scaled = preprocessing.scale(new_X)"
   ]
  },
  {
   "cell_type": "markdown",
   "metadata": {},
   "source": [
    "### QUESTION 4.2 : \n",
    "Expliquez pourquoi vous regulariserez les coefficients estimes avec une regularisation de type LASSO plutot que RIDGE ?"
   ]
  },
  {
   "cell_type": "markdown",
   "metadata": {},
   "source": [
    "    Notre objectif dans cette partie est de sélectionner les variables de X qui permettront de prédire au mieux Y. Si la régression Ridge combine les effets de variables explicatrices très corrélées pour les renforcer mutuellement, la régression LASSO permet quant à elle d'estimer à 0 les effets peu importants et donc de sélectionner un modèle ayant un nombre de variables inférieur à p. "
   ]
  },
  {
   "cell_type": "markdown",
   "metadata": {},
   "source": [
    "### QUESTION 4.3 : \n",
    "Codez la procédure de sélection des variables optimales en parametrant à la main le poids entre la qualité de prédiction et le niveau de régularisation"
   ]
  },
  {
   "cell_type": "code",
   "execution_count": 276,
   "metadata": {
    "ExecuteTime": {
     "end_time": "2018-10-14T15:42:02.865334Z",
     "start_time": "2018-10-14T15:42:02.534068Z"
    }
   },
   "outputs": [
    {
     "name": "stdout",
     "output_type": "stream",
     "text": [
      "Meilleur compromis : \n",
      "-alpha =  0.325 \n",
      "-total R² :  6.068\n",
      "\n",
      "Coefficient : R² = 0.75\n",
      "\n",
      "Coefficient de la régression LASSO : \n",
      "\n",
      " [ 0.1574595  -0.         -0.         -0.         -0.         -0.\n",
      "  0.         -0.         -0.          0.          0.         -1.1661198\n",
      "  0.         -0.          0.          2.09983553 -0.         -0.        ]\n",
      "Variables optimales :  ['Acid 1 density', 'Biomarker 5', 'Biomarker 8']\n"
     ]
    }
   ],
   "source": [
    "kf = KFold(n_splits=8)\n",
    "\n",
    "maxi = [0,0,0,0]\n",
    "\n",
    "for alpha in np.arange(0.1, 0.5, 0.005):\n",
    "    r2_score_lasso_list = []\n",
    "    \n",
    "    for train, test in kf.split(X_scaled):\n",
    "        X_train = X_scaled[train]\n",
    "        y_train = new_Y[train]\n",
    "        X_test = X_scaled[test]\n",
    "        y_test = new_Y[test]\n",
    "\n",
    "        lasso_regressor = Lasso(alpha=alpha)\n",
    "        lasso_regressor.fit(X_train, y_train)\n",
    "\n",
    "        y_pred_lasso = lasso_regressor.predict(X_test)\n",
    "        r2_score_lasso = r2_score(y_test, y_pred_lasso)\n",
    "        \n",
    "        r2_score_lasso_list.append(r2_score_lasso)\n",
    "        \n",
    "    if np.sum(r2_score_lasso_list) > maxi[1]: \n",
    "        maxi[0] = alpha\n",
    "        maxi[1] = np.sum(r2_score_lasso_list)\n",
    "        maxi[2] = r2_score_lasso_list\n",
    "        maxi[3] = lasso_regressor.coef_\n",
    "        \n",
    "print(\"Meilleur compromis : \\n-alpha = \", np.round(maxi[0],3),\n",
    "      \"\\n-total R² : \",np.round(maxi[1],3))\n",
    "\n",
    "print(\"\\nCoefficient : R² = \"+ \\\n",
    "      str(round(np.mean(r2_score_lasso_list),2)))\n",
    "print(\"\\nCoefficient de la régression LASSO : \\n\\n\", maxi[3])\n",
    "\n",
    "var = []\n",
    "for i, val in enumerate(maxi[3]):\n",
    "    if abs(val) > 0.01:\n",
    "        var.append(listColNames[i])\n",
    "print(\"Variables optimales : \", var)"
   ]
  },
  {
   "cell_type": "markdown",
   "metadata": {},
   "source": [
    "    Le meilleur poids entre la qualité de prédiction et le niveau de régularisation est obtenu avec le coefficient alpha ci-dessus.\n",
    "    "
   ]
  },
  {
   "cell_type": "markdown",
   "metadata": {},
   "source": [
    "### QUESTION 4.4 : \n",
    "Codez la procedure automatique de parametrisation de ce poids, de sorte à ce qu'un maximum de trois variables soit typiquement sélectionné et que la qualité de prédiction soit optimale.\n",
    "Une procédure de validation croisée de type leave-one-out sera idéalement utilisée.\n",
    "La sélection des variables est-elle stable ?\n",
    "\n"
   ]
  },
  {
   "cell_type": "code",
   "execution_count": 280,
   "metadata": {
    "ExecuteTime": {
     "end_time": "2018-10-14T15:46:37.007242Z",
     "start_time": "2018-10-14T15:46:28.869940Z"
    }
   },
   "outputs": [
    {
     "name": "stdout",
     "output_type": "stream",
     "text": [
      "Minimum d'erreur avec 3 variables sélectionnées  au maximum :\n",
      "- pour alpha =  0.2795 \n",
      "- total d'erreur =  191.87851867773344  \n",
      "- nb coef sélectionnés =  3\n",
      "Variables optimales :  ['Acid 1 density', 'Biomarker 5', 'Biomarker 8']\n"
     ]
    }
   ],
   "source": [
    "Loo = LeaveOneOut()\n",
    "\n",
    "#On définit le seuil à partir duquel on ne considère plus la variable\n",
    "epsilon = 0.001\n",
    "mini = [0,220,0]\n",
    "\n",
    "for alpha in np.arange(0.26, 0.30, 0.0001):\n",
    "    sum_squared_scores = 0.\n",
    "    \n",
    "    for train, test in Loo.split(X_scaled):\n",
    "        lasso_regressor = Lasso(alpha=alpha, fit_intercept=True)\n",
    "        lasso_regressor.fit(X_scaled[train], new_Y[train])\n",
    "  \n",
    "        y_pred_lasso = lasso_regressor.predict(X_scaled[test])\n",
    "        sum_squared_scores += (new_Y[test][0]- y_pred_lasso[0]) * \\\n",
    "        (new_Y[test][0] - y_pred_lasso[0])\n",
    "        \n",
    "    if sum_squared_scores < mini[1]: \n",
    "        if np.sum(lasso_regressor.coef_>epsilon) <= 3:\n",
    "            mini[0] = alpha\n",
    "            mini[1] = sum_squared_scores\n",
    "            mini[2] = lasso_regressor.coef_\n",
    "            #print(mini[2] > epsilon)\n",
    "    \n",
    "print(\"Minimum d'erreur avec 3 variables sélectionnées \",\n",
    "      \"au maximum :\\n- pour alpha = \", np.round(mini[0],4), \n",
    "      \"\\n- total d'erreur = \",\n",
    "      mini[1], \" \\n- nb coef sélectionnés = \",\n",
    "      np.sum(abs(mini[2]) > epsilon))\n",
    "\n",
    "var = []\n",
    "for i, val in enumerate(mini[2]):\n",
    "    if abs(val) > epsilon:\n",
    "        var.append(listColNames[i])\n",
    "print(\"Variables optimales : \", var)"
   ]
  },
  {
   "cell_type": "markdown",
   "metadata": {},
   "source": [
    "    La qualité de prédiction est optimale lorsque la somme des carrés des erreurs est minimale. On a ainsi sélectionné la somme d'erreurs minimale pour un maximum de 3 variables sélectionnées.\n",
    "    Ici, on trouve le minimum pour alpha = 0.2795 : on sélectionne ainsi 2 variables. La première, la douxième et la seizième variable sont régulièrement sélectionnées ; on peut donc dire que la sélection des variables est stable. "
   ]
  },
  {
   "cell_type": "markdown",
   "metadata": {},
   "source": [
    "## QUESTION 5 :\n",
    "On s'interesse enfin au fichier 'MedicalData2.csv' et non 'MedicalData1.csv' qui contient une colonne qualitative supplementaire 'Pathology type'.\n",
    "### QUESTION 5.1 : \n",
    "Quelles sont les differences entre les structures du fichier 'MedicalData2.csv' et du fichier 'MedicalData1.csv' en plus de cette colonne supplementaire"
   ]
  },
  {
   "cell_type": "code",
   "execution_count": 281,
   "metadata": {
    "ExecuteTime": {
     "end_time": "2018-10-14T15:46:56.397458Z",
     "start_time": "2018-10-14T15:46:56.367275Z"
    }
   },
   "outputs": [
    {
     "data": {
      "text/html": [
       "<div>\n",
       "<style scoped>\n",
       "    .dataframe tbody tr th:only-of-type {\n",
       "        vertical-align: middle;\n",
       "    }\n",
       "\n",
       "    .dataframe tbody tr th {\n",
       "        vertical-align: top;\n",
       "    }\n",
       "\n",
       "    .dataframe thead th {\n",
       "        text-align: right;\n",
       "    }\n",
       "</style>\n",
       "<table border=\"1\" class=\"dataframe\">\n",
       "  <thead>\n",
       "    <tr style=\"text-align: right;\">\n",
       "      <th></th>\n",
       "      <th>Acid 1 density</th>\n",
       "      <th>Acid 2 density</th>\n",
       "      <th>Acid 3 density</th>\n",
       "      <th>Cells 1 density</th>\n",
       "      <th>Cells 2 density</th>\n",
       "      <th>Pressure 1</th>\n",
       "      <th>Pressure 2</th>\n",
       "      <th>Bio-marker 1</th>\n",
       "      <th>Bio-marker 2</th>\n",
       "      <th>Biomarker 3</th>\n",
       "      <th>Biomarker 4</th>\n",
       "      <th>Biomarker 5</th>\n",
       "      <th>Biomarker 6</th>\n",
       "      <th>Biomarker 6.1</th>\n",
       "      <th>Biomarker 7</th>\n",
       "      <th>Biomarker 8</th>\n",
       "      <th>Biomarker 9</th>\n",
       "      <th>Biomarker 10</th>\n",
       "      <th>Disease progression</th>\n",
       "      <th>Pathology type</th>\n",
       "    </tr>\n",
       "  </thead>\n",
       "  <tbody>\n",
       "    <tr>\n",
       "      <th>0</th>\n",
       "      <td>11.6</td>\n",
       "      <td>6.4</td>\n",
       "      <td>4.3</td>\n",
       "      <td>7.2</td>\n",
       "      <td>14.4</td>\n",
       "      <td>19.26</td>\n",
       "      <td>39.32</td>\n",
       "      <td>50.00</td>\n",
       "      <td>13.040000</td>\n",
       "      <td>0.20</td>\n",
       "      <td>0.0440</td>\n",
       "      <td>-1.578984</td>\n",
       "      <td>2.209</td>\n",
       "      <td>9.02</td>\n",
       "      <td>0.26</td>\n",
       "      <td>94.285053</td>\n",
       "      <td>3.56</td>\n",
       "      <td>16.91</td>\n",
       "      <td>6</td>\n",
       "      <td>2</td>\n",
       "    </tr>\n",
       "    <tr>\n",
       "      <th>1</th>\n",
       "      <td>15.5</td>\n",
       "      <td>10.5</td>\n",
       "      <td>4.9</td>\n",
       "      <td>6.9</td>\n",
       "      <td>13.7</td>\n",
       "      <td>8.57</td>\n",
       "      <td>36.78</td>\n",
       "      <td>22.57</td>\n",
       "      <td>18.713333</td>\n",
       "      <td>0.51</td>\n",
       "      <td>0.8501</td>\n",
       "      <td>-2.497499</td>\n",
       "      <td>0.339</td>\n",
       "      <td>22.43</td>\n",
       "      <td>0.10</td>\n",
       "      <td>86.766527</td>\n",
       "      <td>7.06</td>\n",
       "      <td>-3.47</td>\n",
       "      <td>6</td>\n",
       "      <td>2</td>\n",
       "    </tr>\n",
       "    <tr>\n",
       "      <th>2</th>\n",
       "      <td>15.3</td>\n",
       "      <td>6.5</td>\n",
       "      <td>4.2</td>\n",
       "      <td>6.4</td>\n",
       "      <td>13.6</td>\n",
       "      <td>13.48</td>\n",
       "      <td>25.90</td>\n",
       "      <td>8.25</td>\n",
       "      <td>8.246667</td>\n",
       "      <td>0.27</td>\n",
       "      <td>0.9629</td>\n",
       "      <td>-3.638758</td>\n",
       "      <td>0.339</td>\n",
       "      <td>17.94</td>\n",
       "      <td>0.13</td>\n",
       "      <td>107.336147</td>\n",
       "      <td>3.20</td>\n",
       "      <td>10.05</td>\n",
       "      <td>10</td>\n",
       "      <td>2</td>\n",
       "    </tr>\n",
       "    <tr>\n",
       "      <th>3</th>\n",
       "      <td>13.4</td>\n",
       "      <td>7.7</td>\n",
       "      <td>4.1</td>\n",
       "      <td>5.8</td>\n",
       "      <td>14.2</td>\n",
       "      <td>15.23</td>\n",
       "      <td>44.36</td>\n",
       "      <td>11.09</td>\n",
       "      <td>11.093333</td>\n",
       "      <td>0.67</td>\n",
       "      <td>-0.2756</td>\n",
       "      <td>-6.273760</td>\n",
       "      <td>1.611</td>\n",
       "      <td>11.38</td>\n",
       "      <td>0.20</td>\n",
       "      <td>136.516384</td>\n",
       "      <td>4.33</td>\n",
       "      <td>-3.62</td>\n",
       "      <td>18</td>\n",
       "      <td>2</td>\n",
       "    </tr>\n",
       "    <tr>\n",
       "      <th>4</th>\n",
       "      <td>16.0</td>\n",
       "      <td>5.2</td>\n",
       "      <td>3.2</td>\n",
       "      <td>5.7</td>\n",
       "      <td>12.8</td>\n",
       "      <td>8.37</td>\n",
       "      <td>19.62</td>\n",
       "      <td>7.44</td>\n",
       "      <td>6.386667</td>\n",
       "      <td>0.24</td>\n",
       "      <td>-0.6928</td>\n",
       "      <td>-2.096575</td>\n",
       "      <td>0.659</td>\n",
       "      <td>8.56</td>\n",
       "      <td>0.27</td>\n",
       "      <td>88.774469</td>\n",
       "      <td>4.57</td>\n",
       "      <td>1.56</td>\n",
       "      <td>7</td>\n",
       "      <td>2</td>\n",
       "    </tr>\n",
       "  </tbody>\n",
       "</table>\n",
       "</div>"
      ],
      "text/plain": [
       "   Acid 1 density  Acid 2 density  Acid 3 density  Cells 1 density  \\\n",
       "0            11.6             6.4             4.3              7.2   \n",
       "1            15.5            10.5             4.9              6.9   \n",
       "2            15.3             6.5             4.2              6.4   \n",
       "3            13.4             7.7             4.1              5.8   \n",
       "4            16.0             5.2             3.2              5.7   \n",
       "\n",
       "   Cells 2 density  Pressure 1  Pressure 2  Bio-marker 1  Bio-marker 2  \\\n",
       "0             14.4       19.26       39.32         50.00     13.040000   \n",
       "1             13.7        8.57       36.78         22.57     18.713333   \n",
       "2             13.6       13.48       25.90          8.25      8.246667   \n",
       "3             14.2       15.23       44.36         11.09     11.093333   \n",
       "4             12.8        8.37       19.62          7.44      6.386667   \n",
       "\n",
       "   Biomarker 3  Biomarker 4  Biomarker 5  Biomarker 6  Biomarker 6.1  \\\n",
       "0         0.20       0.0440    -1.578984        2.209           9.02   \n",
       "1         0.51       0.8501    -2.497499        0.339          22.43   \n",
       "2         0.27       0.9629    -3.638758        0.339          17.94   \n",
       "3         0.67      -0.2756    -6.273760        1.611          11.38   \n",
       "4         0.24      -0.6928    -2.096575        0.659           8.56   \n",
       "\n",
       "   Biomarker 7  Biomarker 8  Biomarker 9  Biomarker 10  Disease progression  \\\n",
       "0         0.26    94.285053         3.56         16.91                    6   \n",
       "1         0.10    86.766527         7.06         -3.47                    6   \n",
       "2         0.13   107.336147         3.20         10.05                   10   \n",
       "3         0.20   136.516384         4.33         -3.62                   18   \n",
       "4         0.27    88.774469         4.57          1.56                    7   \n",
       "\n",
       "   Pathology type  \n",
       "0               2  \n",
       "1               2  \n",
       "2               2  \n",
       "3               2  \n",
       "4               2  "
      ]
     },
     "execution_count": 281,
     "metadata": {},
     "output_type": "execute_result"
    }
   ],
   "source": [
    "dataframe2 = pandas.read_csv(\"./MedicalData2.csv\",sep=',',\n",
    "                             decimal=b'.')\n",
    "dataframe2.head()"
   ]
  },
  {
   "cell_type": "code",
   "execution_count": 283,
   "metadata": {
    "ExecuteTime": {
     "end_time": "2018-10-14T15:48:20.311661Z",
     "start_time": "2018-10-14T15:48:20.289865Z"
    }
   },
   "outputs": [
    {
     "name": "stdout",
     "output_type": "stream",
     "text": [
      "Pathology type n'est pas dans le fichier 'MedicalData1.csv'\n"
     ]
    }
   ],
   "source": [
    "for col in list(dataframe2.columns):\n",
    "    if col in list(dataframe.columns):\n",
    "        comp = [np.round(a1,3) == np.round(a2,3) for a1, a2 in \\\n",
    "                zip(dataframe[col].values, dataframe2[col].values)]\n",
    "        if np.sum(comp) != len(dataframe):\n",
    "            print(\"Les valeurs sont différentes dans la colonne \", \n",
    "                  col)\n",
    "    else:\n",
    "        print(col, \"n'est pas dans le fichier 'MedicalData1.csv'\")"
   ]
  },
  {
   "cell_type": "markdown",
   "metadata": {},
   "source": [
    "    Dans le fichier \"MedicalData.csv\", le séparateur est un point virgule et le séparateur déimal est une virgule. Dans \"MedicalData2.csv\", le séparateur est une virgule et le séparateur décimal est un point. Les colonnes sont les mêmes, leurs valeurs aussi, à ceci près que le deuxième fichier contient une colonne supplémentaire : 'Pathology type'. Cette variable est une variable qualitative."
   ]
  },
  {
   "cell_type": "markdown",
   "metadata": {},
   "source": [
    "### QUESTION 5.2 : \n",
    "Est-ce qu'une variable semble bien expliquer la classe de 'Pathology type'. Quelle démarche vous semble la plus pertinente pour identifer cette variable ?`\n",
    "\n"
   ]
  },
  {
   "cell_type": "code",
   "execution_count": 202,
   "metadata": {
    "ExecuteTime": {
     "end_time": "2018-10-14T15:09:35.561469Z",
     "start_time": "2018-10-14T15:09:35.462241Z"
    }
   },
   "outputs": [
    {
     "name": "stdout",
     "output_type": "stream",
     "text": [
      "Beta values\n",
      "-> Acid 1 density: -0.1914443769908638\n",
      "-> Acid 2 density: 0.398943979340164\n",
      "-> Acid 3 density: 0.0025435852890589965\n",
      "-> Cells 1 density: 0.35882118045477374\n",
      "-> Cells 2 density: 2.8793996956404655\n",
      "-> Pressure 1: 0.06661415844647828\n",
      "-> Pressure 2: -0.25520675788350705\n",
      "-> Bio-marker 1: -0.01670511756047511\n",
      "-> Bio-marker 2: -0.061505549011450555\n",
      "-> Biomarker 3: -0.28016257894525304\n",
      "-> Biomarker 4: -0.13513806737285777\n",
      "-> Biomarker 5: 0.5232221393140347\n",
      "-> Biomarker 6: 0.30617456682155214\n",
      "-> Biomarker 6.1: -0.12316823140995975\n",
      "-> Biomarker 7: -0.021325029498656757\n",
      "-> Biomarker 8: 0.19035692866497123\n",
      "-> Biomarker 9: 0.7727170908422861\n",
      "-> Biomarker 10: -0.35663405041094454\n",
      "-> Disease progression: -0.2586801610514386\n",
      "\n",
      "\n",
      "Variable ayant le plus d'influance sur la variable qualitative :\n"
     ]
    },
    {
     "name": "stderr",
     "output_type": "stream",
     "text": [
      "/home/mergy/anaconda3/lib/python3.6/site-packages/sklearn/linear_model/logistic.py:432: FutureWarning: Default solver will be changed to 'lbfgs' in 0.22. Specify a solver to silence this warning.\n",
      "  FutureWarning)\n"
     ]
    },
    {
     "data": {
      "image/png": "[encoded data removed]",
      "text/plain": [
       "<Figure size 432x288 with 1 Axes>"
      ]
     },
     "metadata": {},
     "output_type": "display_data"
    }
   ],
   "source": [
    "listColNames=list(dataframe2.columns)\n",
    "\n",
    "XY_bis = dataframe2.values\n",
    "ColNb_Y_bis = listColNames.index('Pathology type')\n",
    "\n",
    "listColNames.pop(ColNb_Y_bis)\n",
    "\n",
    "Y_bis = XY_bis[:,ColNb_Y_bis]\n",
    "X_bis = np.delete(XY_bis, ColNb_Y_bis, 1)\n",
    "\n",
    "X_scaled_bis = preprocessing.scale(X_bis)\n",
    "\n",
    "log_reg = LogisticRegression()\n",
    "log_reg.fit(X=X_scaled_bis, y=Y_bis)\n",
    "\n",
    "# on initialise le coefficient maximum à 0\n",
    "maxi = 0\n",
    "\n",
    "print('Beta values')\n",
    "for Col in range(len(listColNames)):\n",
    "    print('-> '+listColNames[Col]+': '+ str(log_reg.coef_[0,Col])) \n",
    "    if log_reg.coef_[0,Col] > maxi:\n",
    "        maxi = log_reg.coef_[0,Col]\n",
    "        col_infl = Col\n",
    "\n",
    "print(\"\\n\\nVariable ayant le plus d'influance sur la variable qualitative :\")\n",
    "plt.plot(X_bis[:,col_infl],Y_bis[:],'.', \n",
    "         label=listColNames[col_infl])\n",
    "plt.xlabel(listColNames[col_infl])\n",
    "plt.ylabel('Pathology type')\n",
    "\n",
    "plt.show()\n",
    "\n"
   ]
  },
  {
   "cell_type": "markdown",
   "metadata": {},
   "source": [
    "    La variable la plus à même de permettre d'identifier le type de pathologie est la densité cellulaire 2. En effet, c'est celle dont la dispersion varie le plus selon que la pathologie soit de type 1 ou de type 2, comme on peut l'observer sur le graphe ci-dessus."
   ]
  }
 ],
 "metadata": {
  "hide_input": false,
  "kernelspec": {
   "display_name": "Python 3",
   "language": "python",
   "name": "python3"
  },
  "language_info": {
   "codemirror_mode": {
    "name": "ipython",
    "version": 3
   },
   "file_extension": ".py",
   "mimetype": "text/x-python",
   "name": "python",
   "nbconvert_exporter": "python",
   "pygments_lexer": "ipython3",
   "version": "3.6.5"
  },
  "latex_envs": {
   "LaTeX_envs_menu_present": true,
   "autoclose": false,
   "autocomplete": true,
   "bibliofile": "biblio.bib",
   "cite_by": "apalike",
   "current_citInitial": 1,
   "eqLabelWithNumbers": true,
   "eqNumInitial": 1,
   "hotkeys": {
    "equation": "Ctrl-E",
    "itemize": "Ctrl-I"
   },
   "labels_anchors": false,
   "latex_user_defs": false,
   "report_style_numbering": false,
   "user_envs_cfg": false
  },
  "nbTranslate": {
   "displayLangs": [
    "*"
   ],
   "hotkey": "alt-t",
   "langInMainMenu": true,
   "sourceLang": "en",
   "targetLang": "fr",
   "useGoogleTranslate": true
  },
  "toc": {
   "nav_menu": {},
   "number_sections": true,
   "sideBar": true,
   "skip_h1_title": false,
   "title_cell": "Table of Contents",
   "title_sidebar": "Contents",
   "toc_cell": false,
   "toc_position": {
    "height": "calc(100% - 180px)",
    "left": "10px",
    "top": "150px",
    "width": "183px"
   },
   "toc_section_display": true,
   "toc_window_display": false
  },
  "varInspector": {
   "cols": {
    "lenName": 16,
    "lenType": 16,
    "lenVar": 40
   },
   "kernels_config": {
    "python": {
     "delete_cmd_postfix": "",
     "delete_cmd_prefix": "del ",
     "library": "var_list.py",
     "varRefreshCmd": "print(var_dic_list())"
    },
    "r": {
     "delete_cmd_postfix": ") ",
     "delete_cmd_prefix": "rm(",
     "library": "var_list.r",
     "varRefreshCmd": "cat(var_dic_list()) "
    }
   },
   "types_to_exclude": [
    "module",
    "function",
    "builtin_function_or_method",
    "instance",
    "_Feature"
   ],
   "window_display": false
  }
 },
 "nbformat": 4,
 "nbformat_minor": 2
}
